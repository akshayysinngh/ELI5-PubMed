{
 "cells": [
  {
   "cell_type": "markdown",
   "metadata": {},
   "source": [
    "# ELI5 - Research Paper from PubMed\n",
    "Explain Like I'm 5, a research paper from PubMed."
   ]
  },
  {
   "cell_type": "markdown",
   "metadata": {},
   "source": [
    "### Install Libraries"
   ]
  },
  {
   "cell_type": "code",
   "execution_count": 1,
   "metadata": {
    "id": "iS4SsV8v3xhq"
   },
   "outputs": [],
   "source": [
    "#!pip -q install langchain openai tiktoken\n",
    "#!pip install rouge\n",
    "#!pip install wordcloud"
   ]
  },
  {
   "cell_type": "code",
   "execution_count": 2,
   "metadata": {},
   "outputs": [],
   "source": [
    "#!pip install pubmed_parser"
   ]
  },
  {
   "cell_type": "code",
   "execution_count": 3,
   "metadata": {},
   "outputs": [
    {
     "data": {
      "text/plain": [
       "True"
      ]
     },
     "execution_count": 3,
     "metadata": {},
     "output_type": "execute_result"
    }
   ],
   "source": [
    "from dotenv import load_dotenv\n",
    "load_dotenv()"
   ]
  },
  {
   "cell_type": "markdown",
   "metadata": {},
   "source": [
    "### Scrape Abstract Text From PubMed URL"
   ]
  },
  {
   "cell_type": "markdown",
   "metadata": {},
   "source": [
    "Effect of Weekly Subcutaneous Semaglutide (Ozempic) vs Daily Liraglutide (Victoza and Saxenda) on Body Weight in Adults With Overweight or Obesity Without Diabetes: The STEP 8 Randomized Clinical Trial "
   ]
  },
  {
   "cell_type": "markdown",
   "metadata": {},
   "source": [
    "The script retrieves the HTML content of a PubMed research paper URL and uses BeautifulSoup to extract the abstract, making it available for further analysis."
   ]
  },
  {
   "cell_type": "code",
   "execution_count": 10,
   "metadata": {},
   "outputs": [],
   "source": [
    "url = 'https://pubmed.ncbi.nlm.nih.gov/35015037/'"
   ]
  },
  {
   "cell_type": "code",
   "execution_count": 11,
   "metadata": {
    "id": "Qqv-ldTE32XG"
   },
   "outputs": [
    {
     "name": "stdout",
     "output_type": "stream",
     "text": [
      "AbstractImportance:Phase 3 trials have not compared semaglutide and liraglutide, glucagon-like peptide-1 analogues available for weight management.Objective:To compare the efficacy and adverse event profiles of once-weekly subcutaneous semaglutide, 2.4 mg, vs once-daily subcutaneous liraglutide, 3.0 mg (both with diet and physical activity), in people with overweight or obesity.Design, setting, and participants:Randomized, open-label, 68-week, phase 3b trial conducted at 19 US sites from September 2019 (enrollment: September 11-November 26) to May 2021 (end of follow-up: May 11) in adults with body mass index of 30 or greater or 27 or greater with 1 or more weight-related comorbidities, without diabetes (N = 338).Interventions:Participants were randomized (3:1:3:1) to receive once-weekly subcutaneous semaglutide, 2.4 mg (16-week escalation; n = 126), or matching placebo, or once-daily subcutaneous liraglutide, 3.0 mg (4-week escalation; n = 127), or matching placebo, plus diet and physical activity. Participants unable to tolerate 2.4 mg of semaglutide could receive 1.7 mg; participants unable to tolerate 3.0 mg of liraglutide discontinued treatment and could restart the 4-week titration. Placebo groups were pooled (n = 85).Main outcomes and measures:The primary end point was percentage change in body weight, and confirmatory secondary end points were achievement of 10% or more, 15% or more, and 20% or more weight loss, assessed for semaglutide vs liraglutide at week 68. Semaglutide vs liraglutide comparisons were open-label, with active treatment groups double-blinded against matched placebo groups. Comparisons of active treatments vs pooled placebo were supportive secondary end points.Results:Of 338 randomized participants (mean [SD] age, 49 [13] years; 265 women [78.4%]; mean [SD] body weight, 104.5 [23.8] kg; mean [SD] body mass index, 37.5 [6.8]), 319 (94.4%) completed the trial, and 271 (80.2%) completed treatment. The mean weight change from baseline was -15.8% with semaglutide vs -6.4% with liraglutide (difference, -9.4 percentage points [95% CI, -12.0 to -6.8]; P < .001); weight change with pooled placebo was -1.9%. Participants had significantly greater odds of achieving 10% or more, 15% or more, and 20% or more weight loss with semaglutide vs liraglutide (70.9% of participants vs 25.6% [odds ratio, 6.3 {95% CI, 3.5 to 11.2}], 55.6% vs 12.0% [odds ratio, 7.9 {95% CI, 4.1 to 15.4}], and 38.5% vs 6.0% [odds ratio, 8.2 {95% CI, 3.5 to 19.1}], respectively; all P < .001). Proportions of participants discontinuing treatment for any reason were 13.5% with semaglutide and 27.6% with liraglutide. Gastrointestinal adverse events were reported by 84.1% with semaglutide and 82.7% with liraglutide.Conclusions and relevance:Among adults with overweight or obesity without diabetes, once-weekly subcutaneous semaglutide compared with once-daily subcutaneous liraglutide, added to counseling for diet and physical activity, resulted in significantly greater weight loss at 68 weeks.Trial registration:ClinicalTrials.gov Identifier:NCT04074161.\n"
     ]
    }
   ],
   "source": [
    "import requests\n",
    "from bs4 import BeautifulSoup\n",
    "\n",
    "# Fetch the HTML content from the URL\n",
    "response = requests.get(url)\n",
    "html_content = response.text\n",
    "\n",
    "# Parse the HTML content using BeautifulSoup\n",
    "soup = BeautifulSoup(html_content, \"html.parser\")\n",
    "\n",
    "# Find the div with class 'abstract' and id 'abstract'\n",
    "abstract_div = soup.find('div', {\"class\": \"abstract\", \"id\": \"abstract\"})\n",
    "\n",
    "# Extract and print the text from the div if it's found\n",
    "if abstract_div:\n",
    "    abstract_text = abstract_div.get_text(strip=True)\n",
    "    print(abstract_text)\n",
    "else:\n",
    "    print(\"Abstract not found.\")\n"
   ]
  },
  {
   "cell_type": "markdown",
   "metadata": {},
   "source": [
    "`CharacterTextSplitter` is being used to divide the abstract text into manageable sections and converts these sections into `Document` objects, preparing them for summarization."
   ]
  },
  {
   "cell_type": "code",
   "execution_count": 12,
   "metadata": {},
   "outputs": [
    {
     "name": "stdout",
     "output_type": "stream",
     "text": [
      "1\n"
     ]
    }
   ],
   "source": [
    "from langchain.docstore.document import Document\n",
    "from langchain.text_splitter import CharacterTextSplitter\n",
    "\n",
    "model_name = \"gpt-3.5-turbo\"\n",
    "text_splitter = CharacterTextSplitter.from_tiktoken_encoder(\n",
    "    model_name=model_name\n",
    ")\n",
    "\n",
    "texts = text_splitter.split_text(abstract_text)\n",
    "\n",
    "docs = [Document(page_content=t) for t in texts]\n",
    "print(len(docs))"
   ]
  },
  {
   "cell_type": "markdown",
   "metadata": {},
   "source": [
    "#### Create API Key as Environment File"
   ]
  },
  {
   "cell_type": "markdown",
   "metadata": {},
   "source": [
    "Preparing the environment for OpenAI API interaction by setting up the API key and initializing the language model instance."
   ]
  },
  {
   "cell_type": "code",
   "execution_count": 13,
   "metadata": {},
   "outputs": [],
   "source": [
    "env_content = \"OPENAI_API_KEY='sk-abcd'\"\n",
    "#Replace this with your own API KI\n",
    "\n",
    "#with open('.env', 'w') as file:\n",
    "#    file.write(env_content)\n",
    "#print(\"File '.env' has been created and the API key information has been written into it.\")\n"
   ]
  },
  {
   "cell_type": "code",
   "execution_count": 14,
   "metadata": {},
   "outputs": [],
   "source": [
    "import sys\n",
    "import os\n",
    "sys.path.append('../..')\n",
    "\n",
    "from dotenv import load_dotenv, find_dotenv\n",
    "_ = load_dotenv(find_dotenv()) # read local .env file\n",
    "OPENAI_API_KEY = os.environ['OPENAI_API_KEY']"
   ]
  },
  {
   "cell_type": "code",
   "execution_count": 15,
   "metadata": {
    "id": "_S16Cbf834ww"
   },
   "outputs": [],
   "source": [
    "from langchain_openai import ChatOpenAI\n",
    "llm = ChatOpenAI(temperature=0, openai_api_key=OPENAI_API_KEY, model_name=model_name)"
   ]
  },
  {
   "cell_type": "markdown",
   "metadata": {},
   "source": [
    "### Prompt Engineering"
   ]
  },
  {
   "cell_type": "markdown",
   "metadata": {},
   "source": [
    "Creating prompts to instruct the AI on how to process the abstract text, aiming to simplify and explain the content and extract any structured or numerical data from the conclusions."
   ]
  },
  {
   "cell_type": "code",
   "execution_count": 16,
   "metadata": {
    "id": "KWgl_-7O37qx"
   },
   "outputs": [],
   "source": [
    "from langchain.prompts import PromptTemplate\n",
    "\n",
    "prompt_template = \"\"\"\n",
    "\n",
    "Read the {text} carefully, then explain the extract, line by line, in an easy to understand language.\n",
    "\n",
    "\"\"\"\n",
    "\n",
    "prompt = PromptTemplate(template=prompt_template, input_variables=[\"text\"])"
   ]
  },
  {
   "cell_type": "code",
   "execution_count": 17,
   "metadata": {},
   "outputs": [],
   "source": [
    "prompt_template_2 = \"\"\"\n",
    "\n",
    "Read the {text} carefully, if there is data present in the text,\n",
    "then extract it and arrange it in form of a dataframe. \n",
    "\n",
    "\"\"\"\n",
    "\n",
    "prompt2 = PromptTemplate(template=prompt_template_2, input_variables=[\"text\"])\n",
    "\n"
   ]
  },
  {
   "cell_type": "markdown",
   "metadata": {},
   "source": [
    "### Fetch Number of Tokens"
   ]
  },
  {
   "cell_type": "markdown",
   "metadata": {},
   "source": [
    "Implementing a function to count the tokens in the abstract, ensuring that the input does not exceed the model's token limit of 4097. Depending on the token count, the script selects an appropriate summarization approach, either processing the text directly or using a map-reduce strategy for longer texts."
   ]
  },
  {
   "cell_type": "code",
   "execution_count": 18,
   "metadata": {
    "colab": {
     "base_uri": "https://localhost:8080/"
    },
    "id": "B5LKmp914Bwz",
    "outputId": "b37f1ebc-6149-4540-bbcc-7340ab1bc26a"
   },
   "outputs": [
    {
     "name": "stdout",
     "output_type": "stream",
     "text": [
      "887\n"
     ]
    }
   ],
   "source": [
    "import tiktoken\n",
    "\n",
    "def num_tokens_from_string(string: str, encoding_name: str) -> int:\n",
    "    encoding = tiktoken.encoding_for_model(encoding_name)\n",
    "    num_tokens = len(encoding.encode(string))\n",
    "    return num_tokens\n",
    "\n",
    "num_tokens = num_tokens_from_string(abstract_text, model_name)\n",
    "print(num_tokens)"
   ]
  },
  {
   "cell_type": "code",
   "execution_count": 19,
   "metadata": {
    "colab": {
     "base_uri": "https://localhost:8080/"
    },
    "id": "3hYvsv8U4CvF",
    "outputId": "626e633c-66d9-437a-9842-1646171a21ed"
   },
   "outputs": [
    {
     "name": "stderr",
     "output_type": "stream",
     "text": [
      "/Users/akshaysingh/anaconda3/lib/python3.11/site-packages/langchain_core/_api/deprecation.py:117: LangChainDeprecationWarning: The function `run` was deprecated in LangChain 0.1.0 and will be removed in 0.2.0. Use invoke instead.\n",
      "  warn_deprecated(\n"
     ]
    },
    {
     "name": "stdout",
     "output_type": "stream",
     "text": [
      "\n",
      "\n",
      "\u001b[1m> Entering new StuffDocumentsChain chain...\u001b[0m\n",
      "\n",
      "\n",
      "\u001b[1m> Entering new LLMChain chain...\u001b[0m\n",
      "Prompt after formatting:\n",
      "\u001b[32;1m\u001b[1;3m\n",
      "\n",
      "Read the AbstractImportance:Phase 3 trials have not compared semaglutide and liraglutide, glucagon-like peptide-1 analogues available for weight management.Objective:To compare the efficacy and adverse event profiles of once-weekly subcutaneous semaglutide, 2.4 mg, vs once-daily subcutaneous liraglutide, 3.0 mg (both with diet and physical activity), in people with overweight or obesity.Design, setting, and participants:Randomized, open-label, 68-week, phase 3b trial conducted at 19 US sites from September 2019 (enrollment: September 11-November 26) to May 2021 (end of follow-up: May 11) in adults with body mass index of 30 or greater or 27 or greater with 1 or more weight-related comorbidities, without diabetes (N = 338).Interventions:Participants were randomized (3:1:3:1) to receive once-weekly subcutaneous semaglutide, 2.4 mg (16-week escalation; n = 126), or matching placebo, or once-daily subcutaneous liraglutide, 3.0 mg (4-week escalation; n = 127), or matching placebo, plus diet and physical activity. Participants unable to tolerate 2.4 mg of semaglutide could receive 1.7 mg; participants unable to tolerate 3.0 mg of liraglutide discontinued treatment and could restart the 4-week titration. Placebo groups were pooled (n = 85).Main outcomes and measures:The primary end point was percentage change in body weight, and confirmatory secondary end points were achievement of 10% or more, 15% or more, and 20% or more weight loss, assessed for semaglutide vs liraglutide at week 68. Semaglutide vs liraglutide comparisons were open-label, with active treatment groups double-blinded against matched placebo groups. Comparisons of active treatments vs pooled placebo were supportive secondary end points.Results:Of 338 randomized participants (mean [SD] age, 49 [13] years; 265 women [78.4%]; mean [SD] body weight, 104.5 [23.8] kg; mean [SD] body mass index, 37.5 [6.8]), 319 (94.4%) completed the trial, and 271 (80.2%) completed treatment. The mean weight change from baseline was -15.8% with semaglutide vs -6.4% with liraglutide (difference, -9.4 percentage points [95% CI, -12.0 to -6.8]; P < .001); weight change with pooled placebo was -1.9%. Participants had significantly greater odds of achieving 10% or more, 15% or more, and 20% or more weight loss with semaglutide vs liraglutide (70.9% of participants vs 25.6% [odds ratio, 6.3 {95% CI, 3.5 to 11.2}], 55.6% vs 12.0% [odds ratio, 7.9 {95% CI, 4.1 to 15.4}], and 38.5% vs 6.0% [odds ratio, 8.2 {95% CI, 3.5 to 19.1}], respectively; all P < .001). Proportions of participants discontinuing treatment for any reason were 13.5% with semaglutide and 27.6% with liraglutide. Gastrointestinal adverse events were reported by 84.1% with semaglutide and 82.7% with liraglutide.Conclusions and relevance:Among adults with overweight or obesity without diabetes, once-weekly subcutaneous semaglutide compared with once-daily subcutaneous liraglutide, added to counseling for diet and physical activity, resulted in significantly greater weight loss at 68 weeks.Trial registration:ClinicalTrials.gov Identifier:NCT04074161. carefully, then explain the extract, line by line, in an easy to understand language.\n",
      "\n",
      "\u001b[0m\n",
      "\n",
      "\u001b[1m> Finished chain.\u001b[0m\n",
      "\n",
      "\u001b[1m> Finished chain.\u001b[0m\n"
     ]
    }
   ],
   "source": [
    "from langchain.chains.summarize import load_summarize_chain\n",
    "import textwrap\n",
    "from time import monotonic\n",
    "\n",
    "gpt_35_turbo_max_tokens = 4097\n",
    "verbose = True\n",
    "\n",
    "if num_tokens < gpt_35_turbo_max_tokens:\n",
    "  #chain = load_summarize_chain(llm, chain_type=\"stuff\", prompt=prompt, verbose=verbose)\n",
    "  chain = load_summarize_chain(llm, chain_type=\"stuff\", prompt=prompt, verbose=verbose)\n",
    "\n",
    "else:\n",
    "  chain = load_summarize_chain(llm, chain_type=\"map_reduce\", map_prompt=prompt,combine_prompt=prompt, verbose=verbose)\n",
    "\n",
    "start_time = monotonic()\n",
    "summary = chain.run(docs)"
   ]
  },
  {
   "cell_type": "code",
   "execution_count": 20,
   "metadata": {},
   "outputs": [
    {
     "name": "stdout",
     "output_type": "stream",
     "text": [
      "\n",
      "\n",
      "\u001b[1m> Entering new StuffDocumentsChain chain...\u001b[0m\n",
      "\n",
      "\n",
      "\u001b[1m> Entering new LLMChain chain...\u001b[0m\n",
      "Prompt after formatting:\n",
      "\u001b[32;1m\u001b[1;3m\n",
      "\n",
      "Read the AbstractImportance:Phase 3 trials have not compared semaglutide and liraglutide, glucagon-like peptide-1 analogues available for weight management.Objective:To compare the efficacy and adverse event profiles of once-weekly subcutaneous semaglutide, 2.4 mg, vs once-daily subcutaneous liraglutide, 3.0 mg (both with diet and physical activity), in people with overweight or obesity.Design, setting, and participants:Randomized, open-label, 68-week, phase 3b trial conducted at 19 US sites from September 2019 (enrollment: September 11-November 26) to May 2021 (end of follow-up: May 11) in adults with body mass index of 30 or greater or 27 or greater with 1 or more weight-related comorbidities, without diabetes (N = 338).Interventions:Participants were randomized (3:1:3:1) to receive once-weekly subcutaneous semaglutide, 2.4 mg (16-week escalation; n = 126), or matching placebo, or once-daily subcutaneous liraglutide, 3.0 mg (4-week escalation; n = 127), or matching placebo, plus diet and physical activity. Participants unable to tolerate 2.4 mg of semaglutide could receive 1.7 mg; participants unable to tolerate 3.0 mg of liraglutide discontinued treatment and could restart the 4-week titration. Placebo groups were pooled (n = 85).Main outcomes and measures:The primary end point was percentage change in body weight, and confirmatory secondary end points were achievement of 10% or more, 15% or more, and 20% or more weight loss, assessed for semaglutide vs liraglutide at week 68. Semaglutide vs liraglutide comparisons were open-label, with active treatment groups double-blinded against matched placebo groups. Comparisons of active treatments vs pooled placebo were supportive secondary end points.Results:Of 338 randomized participants (mean [SD] age, 49 [13] years; 265 women [78.4%]; mean [SD] body weight, 104.5 [23.8] kg; mean [SD] body mass index, 37.5 [6.8]), 319 (94.4%) completed the trial, and 271 (80.2%) completed treatment. The mean weight change from baseline was -15.8% with semaglutide vs -6.4% with liraglutide (difference, -9.4 percentage points [95% CI, -12.0 to -6.8]; P < .001); weight change with pooled placebo was -1.9%. Participants had significantly greater odds of achieving 10% or more, 15% or more, and 20% or more weight loss with semaglutide vs liraglutide (70.9% of participants vs 25.6% [odds ratio, 6.3 {95% CI, 3.5 to 11.2}], 55.6% vs 12.0% [odds ratio, 7.9 {95% CI, 4.1 to 15.4}], and 38.5% vs 6.0% [odds ratio, 8.2 {95% CI, 3.5 to 19.1}], respectively; all P < .001). Proportions of participants discontinuing treatment for any reason were 13.5% with semaglutide and 27.6% with liraglutide. Gastrointestinal adverse events were reported by 84.1% with semaglutide and 82.7% with liraglutide.Conclusions and relevance:Among adults with overweight or obesity without diabetes, once-weekly subcutaneous semaglutide compared with once-daily subcutaneous liraglutide, added to counseling for diet and physical activity, resulted in significantly greater weight loss at 68 weeks.Trial registration:ClinicalTrials.gov Identifier:NCT04074161. carefully, if there is data present in the text,\n",
      "then extract it and arrange it in form of a dataframe. \n",
      "\n",
      "\u001b[0m\n",
      "\n",
      "\u001b[1m> Finished chain.\u001b[0m\n",
      "\n",
      "\u001b[1m> Finished chain.\u001b[0m\n"
     ]
    }
   ],
   "source": [
    "if num_tokens < gpt_35_turbo_max_tokens:\n",
    "  #chain = load_summarize_chain(llm, chain_type=\"stuff\", prompt=prompt, verbose=verbose)\n",
    "  chain = load_summarize_chain(llm, chain_type=\"stuff\", prompt=prompt2, verbose=verbose)\n",
    "\n",
    "else:\n",
    "  chain = load_summarize_chain(llm, chain_type=\"map_reduce\", map_prompt=prompt2,combine_prompt=prompt, verbose=verbose)\n",
    "\n",
    "summary2 = chain.run(docs)"
   ]
  },
  {
   "cell_type": "code",
   "execution_count": 21,
   "metadata": {
    "scrolled": true
   },
   "outputs": [],
   "source": [
    "#print(summary)"
   ]
  },
  {
   "cell_type": "code",
   "execution_count": 43,
   "metadata": {},
   "outputs": [],
   "source": [
    "#print(summary2)"
   ]
  },
  {
   "cell_type": "markdown",
   "metadata": {},
   "source": [
    "### Data Cleaning"
   ]
  },
  {
   "cell_type": "markdown",
   "metadata": {},
   "source": [
    "Transforms any extracted data or conclusions into a pandas DataFrame, cleaning the data by removing unnecessary whitespace and handling missing values."
   ]
  },
  {
   "cell_type": "code",
   "execution_count": 23,
   "metadata": {},
   "outputs": [
    {
     "name": "stderr",
     "output_type": "stream",
     "text": [
      "/Users/akshaysingh/anaconda3/lib/python3.11/site-packages/pandas/core/arrays/masked.py:60: UserWarning: Pandas requires version '1.3.6' or newer of 'bottleneck' (version '1.3.5' currently installed).\n",
      "  from pandas.core import (\n"
     ]
    }
   ],
   "source": [
    "import pandas as pd\n",
    "from io import StringIO\n",
    "\n",
    "# Check if summary2 contains data\n",
    "if summary2.strip():  # Checks if summary2 is not just whitespace\n",
    "    # Using StringIO to simulate a file-like object\n",
    "    data = StringIO(summary2)\n",
    "\n",
    "    # Creating the DataFrame\n",
    "    df = pd.read_csv(data, sep=\"|\", skipinitialspace=True)\n",
    "\n",
    "    # Trimming whitespace from all string elements in the DataFrame\n",
    "    df = df.apply(lambda x: x.str.strip() if x.dtype == \"object\" else x)\n",
    "\n",
    "    if df.iloc[:, 0].isnull().all():\n",
    "        df = df.drop(df.columns[0], axis=1)\n",
    "    \n",
    "else:\n",
    "    df = \"contains no data\"\n"
   ]
  },
  {
   "cell_type": "code",
   "execution_count": 24,
   "metadata": {},
   "outputs": [],
   "source": [
    "if df.empty:\n",
    "        print(\"Empty DataFrame\")"
   ]
  },
  {
   "cell_type": "code",
   "execution_count": 25,
   "metadata": {},
   "outputs": [],
   "source": [
    "if df.empty:\n",
    "        print(\"\")\n",
    "elif df.iloc[:, -1].isnull().all():\n",
    "    df = df.drop(df.columns[-1], axis=1)"
   ]
  },
  {
   "cell_type": "code",
   "execution_count": 26,
   "metadata": {},
   "outputs": [],
   "source": [
    "def check_dash_or_float(cell):\n",
    "    if isinstance(cell, float):\n",
    "        return False  # floats are not considered as '---'\n",
    "    return all(c == '-' for c in str(cell))  # Check if all characters are dashes in non-floats\n",
    "\n",
    "# Check if all values in the first row contain only dashes\n",
    "if df.empty:\n",
    "        print(\"\")\n",
    "elif all(check_dash_or_float(cell) for cell in df.iloc[0]):\n",
    "    df = df.drop(df.index[0])"
   ]
  },
  {
   "cell_type": "code",
   "execution_count": 27,
   "metadata": {},
   "outputs": [
    {
     "data": {
      "text/html": [
       "<div>\n",
       "<style scoped>\n",
       "    .dataframe tbody tr th:only-of-type {\n",
       "        vertical-align: middle;\n",
       "    }\n",
       "\n",
       "    .dataframe tbody tr th {\n",
       "        vertical-align: top;\n",
       "    }\n",
       "\n",
       "    .dataframe thead th {\n",
       "        text-align: right;\n",
       "    }\n",
       "</style>\n",
       "<table border=\"1\" class=\"dataframe\">\n",
       "  <thead>\n",
       "    <tr style=\"text-align: right;\">\n",
       "      <th></th>\n",
       "      <th>Treatment</th>\n",
       "      <th>Mean Weight Change (%)</th>\n",
       "      <th>Odds of Achieving 10% or more Weight Loss</th>\n",
       "      <th>Odds of Achieving 15% or more Weight Loss</th>\n",
       "      <th>Odds of Achieving 20% or more Weight Loss</th>\n",
       "      <th>Proportion Discontinuing Treatment (%)</th>\n",
       "      <th>Gastrointestinal Adverse Events Reported (%)</th>\n",
       "    </tr>\n",
       "  </thead>\n",
       "  <tbody>\n",
       "    <tr>\n",
       "      <th>1</th>\n",
       "      <td>Semaglutide</td>\n",
       "      <td>-15.8</td>\n",
       "      <td>70.9</td>\n",
       "      <td>55.6</td>\n",
       "      <td>38.5</td>\n",
       "      <td>13.5</td>\n",
       "      <td>84.1</td>\n",
       "    </tr>\n",
       "    <tr>\n",
       "      <th>2</th>\n",
       "      <td>Liraglutide</td>\n",
       "      <td>-6.4</td>\n",
       "      <td>25.6</td>\n",
       "      <td>12.0</td>\n",
       "      <td>6.0</td>\n",
       "      <td>27.6</td>\n",
       "      <td>82.7</td>\n",
       "    </tr>\n",
       "    <tr>\n",
       "      <th>3</th>\n",
       "      <td>Pooled Placebo</td>\n",
       "      <td>-1.9</td>\n",
       "      <td>N/A</td>\n",
       "      <td>N/A</td>\n",
       "      <td>N/A</td>\n",
       "      <td>N/A</td>\n",
       "      <td>N/A</td>\n",
       "    </tr>\n",
       "  </tbody>\n",
       "</table>\n",
       "</div>"
      ],
      "text/plain": [
       "  Treatment        Mean Weight Change (%)   \\\n",
       "1      Semaglutide                   -15.8   \n",
       "2      Liraglutide                    -6.4   \n",
       "3   Pooled Placebo                    -1.9   \n",
       "\n",
       "  Odds of Achieving 10% or more Weight Loss   \\\n",
       "1                                       70.9   \n",
       "2                                       25.6   \n",
       "3                                        N/A   \n",
       "\n",
       "  Odds of Achieving 15% or more Weight Loss   \\\n",
       "1                                       55.6   \n",
       "2                                       12.0   \n",
       "3                                        N/A   \n",
       "\n",
       "  Odds of Achieving 20% or more Weight Loss   \\\n",
       "1                                       38.5   \n",
       "2                                        6.0   \n",
       "3                                        N/A   \n",
       "\n",
       "  Proportion Discontinuing Treatment (%)   \\\n",
       "1                                    13.5   \n",
       "2                                    27.6   \n",
       "3                                     N/A   \n",
       "\n",
       "  Gastrointestinal Adverse Events Reported (%)   \n",
       "1                                          84.1  \n",
       "2                                          82.7  \n",
       "3                                           N/A  "
      ]
     },
     "execution_count": 27,
     "metadata": {},
     "output_type": "execute_result"
    }
   ],
   "source": [
    "df.head()"
   ]
  },
  {
   "cell_type": "code",
   "execution_count": 28,
   "metadata": {},
   "outputs": [],
   "source": [
    "df_filled = df.replace(\"N/A\", 0).fillna(0)"
   ]
  },
  {
   "cell_type": "code",
   "execution_count": 29,
   "metadata": {},
   "outputs": [],
   "source": [
    "df_filled = df.replace(\"-\", 0).fillna(0)"
   ]
  },
  {
   "cell_type": "code",
   "execution_count": 30,
   "metadata": {},
   "outputs": [
    {
     "data": {
      "text/html": [
       "<div>\n",
       "<style scoped>\n",
       "    .dataframe tbody tr th:only-of-type {\n",
       "        vertical-align: middle;\n",
       "    }\n",
       "\n",
       "    .dataframe tbody tr th {\n",
       "        vertical-align: top;\n",
       "    }\n",
       "\n",
       "    .dataframe thead th {\n",
       "        text-align: right;\n",
       "    }\n",
       "</style>\n",
       "<table border=\"1\" class=\"dataframe\">\n",
       "  <thead>\n",
       "    <tr style=\"text-align: right;\">\n",
       "      <th></th>\n",
       "      <th>Treatment</th>\n",
       "      <th>Mean Weight Change (%)</th>\n",
       "      <th>Odds of Achieving 10% or more Weight Loss</th>\n",
       "      <th>Odds of Achieving 15% or more Weight Loss</th>\n",
       "      <th>Odds of Achieving 20% or more Weight Loss</th>\n",
       "      <th>Proportion Discontinuing Treatment (%)</th>\n",
       "      <th>Gastrointestinal Adverse Events Reported (%)</th>\n",
       "    </tr>\n",
       "  </thead>\n",
       "  <tbody>\n",
       "    <tr>\n",
       "      <th>1</th>\n",
       "      <td>Semaglutide</td>\n",
       "      <td>-15.8</td>\n",
       "      <td>70.9</td>\n",
       "      <td>55.6</td>\n",
       "      <td>38.5</td>\n",
       "      <td>13.5</td>\n",
       "      <td>84.1</td>\n",
       "    </tr>\n",
       "    <tr>\n",
       "      <th>2</th>\n",
       "      <td>Liraglutide</td>\n",
       "      <td>-6.4</td>\n",
       "      <td>25.6</td>\n",
       "      <td>12.0</td>\n",
       "      <td>6.0</td>\n",
       "      <td>27.6</td>\n",
       "      <td>82.7</td>\n",
       "    </tr>\n",
       "    <tr>\n",
       "      <th>3</th>\n",
       "      <td>Pooled Placebo</td>\n",
       "      <td>-1.9</td>\n",
       "      <td>N/A</td>\n",
       "      <td>N/A</td>\n",
       "      <td>N/A</td>\n",
       "      <td>N/A</td>\n",
       "      <td>N/A</td>\n",
       "    </tr>\n",
       "  </tbody>\n",
       "</table>\n",
       "</div>"
      ],
      "text/plain": [
       "  Treatment        Mean Weight Change (%)   \\\n",
       "1      Semaglutide                   -15.8   \n",
       "2      Liraglutide                    -6.4   \n",
       "3   Pooled Placebo                    -1.9   \n",
       "\n",
       "  Odds of Achieving 10% or more Weight Loss   \\\n",
       "1                                       70.9   \n",
       "2                                       25.6   \n",
       "3                                        N/A   \n",
       "\n",
       "  Odds of Achieving 15% or more Weight Loss   \\\n",
       "1                                       55.6   \n",
       "2                                       12.0   \n",
       "3                                        N/A   \n",
       "\n",
       "  Odds of Achieving 20% or more Weight Loss   \\\n",
       "1                                       38.5   \n",
       "2                                        6.0   \n",
       "3                                        N/A   \n",
       "\n",
       "  Proportion Discontinuing Treatment (%)   \\\n",
       "1                                    13.5   \n",
       "2                                    27.6   \n",
       "3                                     N/A   \n",
       "\n",
       "  Gastrointestinal Adverse Events Reported (%)   \n",
       "1                                          84.1  \n",
       "2                                          82.7  \n",
       "3                                           N/A  "
      ]
     },
     "execution_count": 30,
     "metadata": {},
     "output_type": "execute_result"
    }
   ],
   "source": [
    "df_filled.head()"
   ]
  },
  {
   "cell_type": "markdown",
   "metadata": {},
   "source": [
    "### Auto Data Visualization"
   ]
  },
  {
   "cell_type": "markdown",
   "metadata": {},
   "source": [
    "Generates a prompt to create visualization code, aiming to graphically represent any data found in the research paper's conclusion."
   ]
  },
  {
   "cell_type": "code",
   "execution_count": 31,
   "metadata": {
    "scrolled": true
   },
   "outputs": [
    {
     "name": "stdout",
     "output_type": "stream",
     "text": [
      "3\n"
     ]
    }
   ],
   "source": [
    "docs = [Document(page_content=row.to_json()) for index, row in df_filled.iterrows()]\n",
    "print(len(docs))"
   ]
  },
  {
   "cell_type": "code",
   "execution_count": 32,
   "metadata": {},
   "outputs": [
    {
     "name": "stdout",
     "output_type": "stream",
     "text": [
      "\n",
      "\n",
      "\u001b[1m> Entering new StuffDocumentsChain chain...\u001b[0m\n",
      "\n",
      "\n",
      "\u001b[1m> Entering new LLMChain chain...\u001b[0m\n",
      "Prompt after formatting:\n",
      "\u001b[32;1m\u001b[1;3m\n",
      "\n",
      "Read the {\"Treatment       \":\"Semaglutide\",\"Mean Weight Change (%) \":\"-15.8\",\"Odds of Achieving 10% or more Weight Loss \":\"70.9\",\"Odds of Achieving 15% or more Weight Loss \":\"55.6\",\"Odds of Achieving 20% or more Weight Loss \":\"38.5\",\"Proportion Discontinuing Treatment (%) \":\"13.5\",\"Gastrointestinal Adverse Events Reported (%) \":\"84.1\"}\n",
      "\n",
      "{\"Treatment       \":\"Liraglutide\",\"Mean Weight Change (%) \":\"-6.4\",\"Odds of Achieving 10% or more Weight Loss \":\"25.6\",\"Odds of Achieving 15% or more Weight Loss \":\"12.0\",\"Odds of Achieving 20% or more Weight Loss \":\"6.0\",\"Proportion Discontinuing Treatment (%) \":\"27.6\",\"Gastrointestinal Adverse Events Reported (%) \":\"82.7\"}\n",
      "\n",
      "{\"Treatment       \":\"Pooled Placebo\",\"Mean Weight Change (%) \":\"-1.9\",\"Odds of Achieving 10% or more Weight Loss \":\"N\\/A\",\"Odds of Achieving 15% or more Weight Loss \":\"N\\/A\",\"Odds of Achieving 20% or more Weight Loss \":\"N\\/A\",\"Proportion Discontinuing Treatment (%) \":\"N\\/A\",\"Gastrointestinal Adverse Events Reported (%) \":\"N\\/A\"} carefully, create a visualization to summarize this dataframe. \n",
      "Make the visualization intuitive to understand.\n",
      "Provide with only the code to create the visualization and nothing else. \n",
      "\n",
      "\u001b[0m\n",
      "\n",
      "\u001b[1m> Finished chain.\u001b[0m\n",
      "\n",
      "\u001b[1m> Finished chain.\u001b[0m\n"
     ]
    }
   ],
   "source": [
    "prompt_template_3 = \"\"\"\n",
    "\n",
    "Read the {text} carefully, create a visualization to summarize this dataframe. \n",
    "Make the visualization intuitive to understand.\n",
    "Provide with only the code to create the visualization and nothing else. \n",
    "\n",
    "\"\"\"\n",
    "\n",
    "prompt3 = PromptTemplate(template=prompt_template_3, input_variables=[\"text\"])\n",
    "chain = load_summarize_chain(llm, chain_type=\"stuff\", prompt=prompt3, verbose=verbose)\n",
    "summary3 = chain.run(docs)"
   ]
  },
  {
   "cell_type": "markdown",
   "metadata": {},
   "source": [
    "## Summary"
   ]
  },
  {
   "cell_type": "code",
   "execution_count": 33,
   "metadata": {},
   "outputs": [
    {
     "name": "stdout",
     "output_type": "stream",
     "text": [
      "In this study, researchers compared the effectiveness and side effects of two different medications, semaglutide and liraglutide, which are both used for weight management. The study involved 338 adults who were overweight or obese but did not have diabetes. Participants were randomly assigned to receive either once-weekly semaglutide injections or once-daily liraglutide injections, along with diet and exercise counseling.\n",
      "\n",
      "The primary goal of the study was to measure the percentage change in body weight after 68 weeks of treatment. The researchers also looked at the percentage of participants who achieved significant weight loss (10%, 15%, or 20%) with each medication. The study was conducted at 19 sites in the US from September 2019 to May 2021.\n",
      "\n",
      "The results showed that participants who received semaglutide had a significantly greater weight loss compared to those who received liraglutide. The odds of achieving 10%, 15%, or 20% weight loss were much higher with semaglutide. Additionally, fewer participants discontinued treatment with semaglutide compared to liraglutide.\n",
      "\n",
      "Both medications were associated with gastrointestinal side effects, but the overall results showed that semaglutide was more effective for weight loss in adults with overweight or obesity. The study provides important information for healthcare providers and patients when considering treatment options for weight management.\n"
     ]
    }
   ],
   "source": [
    "print(summary)"
   ]
  },
  {
   "cell_type": "markdown",
   "metadata": {},
   "source": [
    "### Data From Abstract"
   ]
  },
  {
   "cell_type": "code",
   "execution_count": 37,
   "metadata": {},
   "outputs": [
    {
     "data": {
      "text/html": [
       "<div>\n",
       "<style scoped>\n",
       "    .dataframe tbody tr th:only-of-type {\n",
       "        vertical-align: middle;\n",
       "    }\n",
       "\n",
       "    .dataframe tbody tr th {\n",
       "        vertical-align: top;\n",
       "    }\n",
       "\n",
       "    .dataframe thead th {\n",
       "        text-align: right;\n",
       "    }\n",
       "</style>\n",
       "<table border=\"1\" class=\"dataframe\">\n",
       "  <thead>\n",
       "    <tr style=\"text-align: right;\">\n",
       "      <th></th>\n",
       "      <th>Treatment</th>\n",
       "      <th>Mean Weight Change (%)</th>\n",
       "      <th>Odds of Achieving 10% or more Weight Loss</th>\n",
       "      <th>Odds of Achieving 15% or more Weight Loss</th>\n",
       "      <th>Odds of Achieving 20% or more Weight Loss</th>\n",
       "      <th>Proportion Discontinuing Treatment (%)</th>\n",
       "      <th>Gastrointestinal Adverse Events Reported (%)</th>\n",
       "    </tr>\n",
       "  </thead>\n",
       "  <tbody>\n",
       "    <tr>\n",
       "      <th>1</th>\n",
       "      <td>Semaglutide</td>\n",
       "      <td>-15.8</td>\n",
       "      <td>70.9</td>\n",
       "      <td>55.6</td>\n",
       "      <td>38.5</td>\n",
       "      <td>13.5</td>\n",
       "      <td>84.1</td>\n",
       "    </tr>\n",
       "    <tr>\n",
       "      <th>2</th>\n",
       "      <td>Liraglutide</td>\n",
       "      <td>-6.4</td>\n",
       "      <td>25.6</td>\n",
       "      <td>12.0</td>\n",
       "      <td>6.0</td>\n",
       "      <td>27.6</td>\n",
       "      <td>82.7</td>\n",
       "    </tr>\n",
       "    <tr>\n",
       "      <th>3</th>\n",
       "      <td>Pooled Placebo</td>\n",
       "      <td>-1.9</td>\n",
       "      <td>N/A</td>\n",
       "      <td>N/A</td>\n",
       "      <td>N/A</td>\n",
       "      <td>N/A</td>\n",
       "      <td>N/A</td>\n",
       "    </tr>\n",
       "  </tbody>\n",
       "</table>\n",
       "</div>"
      ],
      "text/plain": [
       "  Treatment        Mean Weight Change (%)   \\\n",
       "1      Semaglutide                   -15.8   \n",
       "2      Liraglutide                    -6.4   \n",
       "3   Pooled Placebo                    -1.9   \n",
       "\n",
       "  Odds of Achieving 10% or more Weight Loss   \\\n",
       "1                                       70.9   \n",
       "2                                       25.6   \n",
       "3                                        N/A   \n",
       "\n",
       "  Odds of Achieving 15% or more Weight Loss   \\\n",
       "1                                       55.6   \n",
       "2                                       12.0   \n",
       "3                                        N/A   \n",
       "\n",
       "  Odds of Achieving 20% or more Weight Loss   \\\n",
       "1                                       38.5   \n",
       "2                                        6.0   \n",
       "3                                        N/A   \n",
       "\n",
       "  Proportion Discontinuing Treatment (%)   \\\n",
       "1                                    13.5   \n",
       "2                                    27.6   \n",
       "3                                     N/A   \n",
       "\n",
       "  Gastrointestinal Adverse Events Reported (%)   \n",
       "1                                          84.1  \n",
       "2                                          82.7  \n",
       "3                                           N/A  "
      ]
     },
     "execution_count": 37,
     "metadata": {},
     "output_type": "execute_result"
    }
   ],
   "source": [
    "df.head()"
   ]
  },
  {
   "cell_type": "code",
   "execution_count": 38,
   "metadata": {
    "scrolled": true
   },
   "outputs": [],
   "source": [
    "#print(summary2)"
   ]
  },
  {
   "cell_type": "code",
   "execution_count": 35,
   "metadata": {},
   "outputs": [
    {
     "data": {
      "image/png": "[encoded data removed]",
      "text/plain": [
       "<Figure size 1500x1000 with 6 Axes>"
      ]
     },
     "metadata": {},
     "output_type": "display_data"
    }
   ],
   "source": [
    "if df.empty:\n",
    "        print(\"\")\n",
    "else:\n",
    "    exec(summary3)"
   ]
  },
  {
   "cell_type": "markdown",
   "metadata": {
    "jp-MarkdownHeadingCollapsed": true
   },
   "source": []
  },
  {
   "cell_type": "code",
   "execution_count": 42,
   "metadata": {},
   "outputs": [
    {
     "name": "stdout",
     "output_type": "stream",
     "text": [
      "[NbConvertApp] WARNING | pattern 'ELI5' matched no files\n",
      "[NbConvertApp] WARNING | pattern '-' matched no files\n",
      "[NbConvertApp] Converting notebook PubMed.ipynb to script\n",
      "[NbConvertApp] Writing 5596 bytes to PubMed.py\n"
     ]
    }
   ],
   "source": [
    "!jupyter nbconvert --to script ELI5 - PubMed.ipynb\n"
   ]
  },
  {
   "cell_type": "code",
   "execution_count": null,
   "metadata": {},
   "outputs": [],
   "source": []
  }
 ],
 "metadata": {
  "colab": {
   "authorship_tag": "ABX9TyPxx0hqYzGeNXEzYbNx9hqe",
   "include_colab_link": true,
   "provenance": []
  },
  "kernelspec": {
   "display_name": "Python 3 (ipykernel)",
   "language": "python",
   "name": "python3"
  },
  "language_info": {
   "codemirror_mode": {
    "name": "ipython",
    "version": 3
   },
   "file_extension": ".py",
   "mimetype": "text/x-python",
   "name": "python",
   "nbconvert_exporter": "python",
   "pygments_lexer": "ipython3",
   "version": "3.11.5"
  }
 },
 "nbformat": 4,
 "nbformat_minor": 4
}
